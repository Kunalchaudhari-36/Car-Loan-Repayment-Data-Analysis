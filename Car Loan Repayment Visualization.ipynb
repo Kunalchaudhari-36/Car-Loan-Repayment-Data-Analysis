#!/usr/bin/env python
# coding: utf-8

# In[2]:


# Load Data
import pandas as pd
df = pd.read_csv (r'E:\cardata.csv')


# In[3]:


print(df)


# In[4]:


df.head()


# In[5]:


df.tail()


# In[6]:


df.dtypes


# In[7]:


df.shape


# In[8]:


df.info()


# In[9]:



import numpy as np
import pandas as pd

import matplotlib.pyplot as plt

import seaborn as sns


# In[13]:


plt.plot(df['interest_paid'])


# In[14]:


plt.plot(df['principal_paid'])


# In[32]:


sns.barplot(x=df['month'],y=df['principal_paid'])
plt.rc('figure',figsize=(40,10))


# In[33]:


sns.barplot(x=df['month'],y=df['interest_paid'])


# In[37]:


sns.boxplot(x=df['month'],y=df['interest_rate'])


# In[41]:


sns.set(style="ticks", color_codes=True)
sns.catplot(x="month", y="new_balance", data=df);


# In[ ]:





# In[ ]:




